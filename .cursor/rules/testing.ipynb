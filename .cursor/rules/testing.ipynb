{
 "cells": [
  {
   "cell_type": "code",
   "execution_count": 6,
   "id": "2a88e2f9",
   "metadata": {},
   "outputs": [],
   "source": [
    "from escnn import gspaces, nn\n",
    "import torch\n",
    "\n",
    "class Equivariant3DCNN(torch.nn.Module):\n",
    "    def __init__(self, \n",
    "                 in_channels: int, \n",
    "                 num_classes: int, \n",
    "                 group_type: str = \"octa\",\n",
    "                 hidden_channels: int = 16):\n",
    "        \"\"\"\n",
    "        2-layer equivariant CNN for 3D data using escnn.\n",
    "\n",
    "        Args:\n",
    "            in_channels (int): Number of input channels.\n",
    "            num_classes (int): Number of output classes.\n",
    "            group_type (str): Symmetry group type. One of:\n",
    "                              [\"octa\", \"full_octa\", \"ico\", \"full_ico\", \"dihedral\", \"cylindrical\"]\n",
    "            hidden_channels (int): Number of hidden channels after first layer.\n",
    "        \"\"\"\n",
    "        super().__init__()\n",
    "\n",
    "        # Select symmetry group (gspace) for R^3\n",
    "        if group_type == \"octa\":\n",
    "            self.r3_act = gspaces.octaOnR3()\n",
    "        elif group_type == \"full_octa\":\n",
    "            self.r3_act = gspaces.fullOctaOnR3()\n",
    "        elif group_type == \"ico\":\n",
    "            self.r3_act = gspaces.icoOnR3()\n",
    "        elif group_type == \"full_ico\":\n",
    "            self.r3_act = gspaces.fullIcoOnR3()\n",
    "        elif group_type == \"dihedral\":\n",
    "            self.r3_act = gspaces.dihedralOnR3(4)  \n",
    "        elif group_type == \"cylindrical\":\n",
    "            self.r3_act = gspaces.cylindricalOnR3(4)\n",
    "        else:\n",
    "            raise ValueError(f\"Unknown group_type: {group_type}\")\n",
    "\n",
    "        # Input type: trivial representation for scalar fields (like pixel/voxel intensities)\n",
    "        in_type = nn.FieldType(self.r3_act, in_channels * [self.r3_act.trivial_repr])\n",
    "        \n",
    "        # First equivariant convolution layer\n",
    "        hidden_type = nn.FieldType(self.r3_act, hidden_channels * [self.r3_act.regular_repr])\n",
    "        self.block1 = nn.SequentialModule(\n",
    "            nn.R3Conv(in_type, hidden_type, kernel_size=3, padding=1, bias=False),\n",
    "            nn.ReLU(hidden_type, inplace=True)\n",
    "        )\n",
    "\n",
    "        # Second equivariant convolution layer\n",
    "        out_type = nn.FieldType(self.r3_act, hidden_channels * [self.r3_act.regular_repr])\n",
    "        self.block2 = nn.SequentialModule(\n",
    "            nn.R3Conv(hidden_type, out_type, kernel_size=3, padding=1, bias=False),\n",
    "            nn.ReLU(out_type, inplace=True)\n",
    "        )\n",
    "\n",
    "        # Global pooling to get invariants\n",
    "        self.pool = nn.GroupPooling(out_type)\n",
    "\n",
    "        # Final classifier: standard torch.nn.Linear\n",
    "        # After pooling, the type is trivial and can be flattened\n",
    "        self.fc = torch.nn.Linear(hidden_channels, num_classes)\n",
    "\n",
    "    def forward(self, x):\n",
    "        # Wrap tensor into escnn GeometricTensor\n",
    "        x = nn.GeometricTensor(x, self.block1[0].in_type)\n",
    "\n",
    "        x = self.block1(x)\n",
    "        x = self.block2(x)\n",
    "\n",
    "        # Group pooling to invariants\n",
    "        x = self.pool(x)\n",
    "\n",
    "        # Now x.tensor has shape (B, C, H, W, D)\n",
    "        # Apply global spatial pooling\n",
    "        x = torch.mean(x.tensor, dim=[2, 3, 4])  # (B, C)\n",
    "\n",
    "        logits = self.fc(x)\n",
    "        return logits"
   ]
  },
  {
   "cell_type": "code",
   "execution_count": 7,
   "id": "91b4570a",
   "metadata": {},
   "outputs": [
    {
     "name": "stdout",
     "output_type": "stream",
     "text": [
      "torch.Size([2, 10])\n"
     ]
    }
   ],
   "source": [
    "model = Equivariant3DCNN(in_channels=1, num_classes=10, group_type=\"cylindrical\", hidden_channels=8)\n",
    "inp = torch.randn(2, 1, 16, 16, 16)  # batch=2, 1 channel, 16³ volume\n",
    "out = model(inp)\n",
    "print(out.shape)  # (2, 10)"
   ]
  }
 ],
 "metadata": {
  "kernelspec": {
   "display_name": "groups",
   "language": "python",
   "name": "python3"
  },
  "language_info": {
   "codemirror_mode": {
    "name": "ipython",
    "version": 3
   },
   "file_extension": ".py",
   "mimetype": "text/x-python",
   "name": "python",
   "nbconvert_exporter": "python",
   "pygments_lexer": "ipython3",
   "version": "3.11.5"
  }
 },
 "nbformat": 4,
 "nbformat_minor": 5
}
